{
 "metadata": {
  "language_info": {
   "codemirror_mode": {
    "name": "ipython",
    "version": 3
   },
   "file_extension": ".py",
   "mimetype": "text/x-python",
   "name": "python",
   "nbconvert_exporter": "python",
   "pygments_lexer": "ipython3",
   "version": "3.9.1"
  },
  "orig_nbformat": 2,
  "kernelspec": {
   "name": "python391jvsc74a57bd03dbb9978b6f98987a64da6f25ebd7001ef12891ad3c96db818a3957ee4683398",
   "display_name": "Python 3.9.1 64-bit ('PYTHONFIRE-VT3IXwWR': pipenv)"
  }
 },
 "nbformat": 4,
 "nbformat_minor": 2,
 "cells": [
  {
   "cell_type": "code",
   "execution_count": 14,
   "metadata": {},
   "outputs": [],
   "source": [
    "from firebase import firebase"
   ]
  },
  {
   "source": [
    "print (\"Doble Comilla\")\n",
    "print ('Comillas simples')"
   ],
   "cell_type": "code",
   "metadata": {},
   "execution_count": 5,
   "outputs": [
    {
     "output_type": "stream",
     "name": "stdout",
     "text": [
      "Doble Comilla\nComillas simples\n"
     ]
    }
   ]
  },
  {
   "cell_type": "code",
   "execution_count": 15,
   "metadata": {},
   "outputs": [
    {
     "output_type": "stream",
     "name": "stdout",
     "text": [
      "{'s1': {'name': 'César'}, 's2': {'name': 'Raúl'}}\n"
     ]
    }
   ],
   "source": [
    "db = firebase.FirebaseApplication('https://pythonfire-cb1ab-default-rtdb.firebaseio.com/', None)\n",
    "\n",
    "results = db.get(\"/students\",None)\n",
    "\n",
    "print(results)"
   ]
  },
  {
   "cell_type": "code",
   "execution_count": 18,
   "metadata": {},
   "outputs": [
    {
     "output_type": "stream",
     "name": "stdout",
     "text": [
      "{'name': 'César Aceves', 'msj': 'Sí asistí a su clase'}\n"
     ]
    }
   ],
   "source": [
    "class Student:\n",
    "    def __init__(self,name,msj):\n",
    "        self.name = name\n",
    "        self.msj = msj\n",
    "\n",
    "s1 = Student(\"César Aceves\", \"Sí asistí a su clase\")\n",
    "\n",
    "data_s1 = vars(s1)\n",
    "print(data_s1)"
   ]
  },
  {
   "cell_type": "code",
   "execution_count": 19,
   "metadata": {},
   "outputs": [
    {
     "output_type": "stream",
     "name": "stdout",
     "text": [
      "Registre asistencia\n"
     ]
    }
   ],
   "source": [
    "db.post('/asistencia/',data_s1)\n",
    "print(\"Registre asistencia\")"
   ]
  },
  {
   "cell_type": "code",
   "execution_count": null,
   "metadata": {},
   "outputs": [],
   "source": []
  }
 ]
}